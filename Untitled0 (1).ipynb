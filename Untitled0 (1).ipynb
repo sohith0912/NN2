{
  "nbformat": 4,
  "nbformat_minor": 0,
  "metadata": {
    "colab": {
      "provenance": []
    },
    "kernelspec": {
      "name": "python3",
      "display_name": "Python 3"
    },
    "language_info": {
      "name": "python"
    }
  },
  "cells": [
    {
      "cell_type": "code",
      "execution_count": 20,
      "metadata": {
        "colab": {
          "base_uri": "https://localhost:8080/"
        },
        "id": "StKVlKAMlHhg",
        "outputId": "2514b4c2-4b90-4078-a684-6aee1a6016bd"
      },
      "outputs": [
        {
          "output_type": "stream",
          "name": "stdout",
          "text": [
            "enter first name : sohith\n",
            "enter last name : soma\n",
            "User full name :  sohith soma\n",
            "Alternate String :  sht oa\n"
          ]
        }
      ],
      "source": [
        "first_name= input(\"enter first name : \")\n",
        "last_name= input(\"enter last name : \")\n",
        "\n",
        "def full_name(first_name,last_name):\n",
        "    return first_name +\" \"+last_name\n",
        "\n",
        "def string_alternative(full_name):\n",
        "    new_str = \"\"\n",
        "    for index in range(0,len(full_name),2):\n",
        "                       new_str+=full_name[index]\n",
        "    return new_str\n",
        "\n",
        "\n",
        "print(\"User full name : \",full_name(first_name,last_name))\n",
        "\n",
        "print(\"Alternate String : \",string_alternative(full_name(first_name,last_name)))"
      ]
    },
    {
      "cell_type": "code",
      "source": [
        "def word_count(str):\n",
        "    counts = dict()\n",
        "    words = str.split()\n",
        "\n",
        "    for word in words:\n",
        "        if word in counts:\n",
        "            counts[word] += 1\n",
        "        else:\n",
        "            counts[word] = 1\n",
        "\n",
        "    return counts\n",
        "\n",
        "print( word_count('Python Course  deep learning Course'))"
      ],
      "metadata": {
        "colab": {
          "base_uri": "https://localhost:8080/"
        },
        "id": "5RbkqiM-luRn",
        "outputId": "e5567378-821e-46a3-f072-f618c90988b3"
      },
      "execution_count": 21,
      "outputs": [
        {
          "output_type": "stream",
          "name": "stdout",
          "text": [
            "{'Python': 1, 'Course': 2, 'deep': 1, 'learning': 1}\n"
          ]
        }
      ]
    },
    {
      "cell_type": "code",
      "source": [
        "data = input(\"enter customer heights : \")\n",
        "\n",
        "def inchToCent(value):\n",
        "    return value*2.54\n",
        "\n",
        "heights = data.split()\n",
        "\n",
        "new_list = []\n",
        "\n",
        "for x in heights:\n",
        "    value = int(x)\n",
        "    new_list.append(inchToCent(value))\n",
        "\n",
        "print(\"show list : \",new_list)"
      ],
      "metadata": {
        "colab": {
          "base_uri": "https://localhost:8080/"
        },
        "id": "6SUzTg3TnHHe",
        "outputId": "d928d748-9a46-41f0-a388-5b13e0b41e83"
      },
      "execution_count": 22,
      "outputs": [
        {
          "output_type": "stream",
          "name": "stdout",
          "text": [
            "enter customer heights : 150 155 145 148\n",
            "show list :  [381.0, 393.7, 368.3, 375.92]\n"
          ]
        }
      ]
    }
  ]
}